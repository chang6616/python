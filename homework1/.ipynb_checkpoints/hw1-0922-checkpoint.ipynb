{
 "cells": [
  {
   "cell_type": "code",
   "execution_count": 7,
   "id": "1b235077",
   "metadata": {},
   "outputs": [
    {
     "data": {
      "text/html": [
       "<div>\n",
       "<style scoped>\n",
       "    .dataframe tbody tr th:only-of-type {\n",
       "        vertical-align: middle;\n",
       "    }\n",
       "\n",
       "    .dataframe tbody tr th {\n",
       "        vertical-align: top;\n",
       "    }\n",
       "\n",
       "    .dataframe thead th {\n",
       "        text-align: right;\n",
       "    }\n",
       "</style>\n",
       "<table border=\"1\" class=\"dataframe\">\n",
       "  <thead>\n",
       "    <tr style=\"text-align: right;\">\n",
       "      <th></th>\n",
       "      <th>學號</th>\n",
       "      <th>姓名</th>\n",
       "      <th>角色</th>\n",
       "    </tr>\n",
       "  </thead>\n",
       "  <tbody>\n",
       "    <tr>\n",
       "      <th>0</th>\n",
       "      <td>41071120H</td>\n",
       "      <td>丁煦芊</td>\n",
       "      <td>學生</td>\n",
       "    </tr>\n",
       "    <tr>\n",
       "      <th>1</th>\n",
       "      <td>41071122H</td>\n",
       "      <td>吳亞蓉</td>\n",
       "      <td>學生</td>\n",
       "    </tr>\n",
       "    <tr>\n",
       "      <th>2</th>\n",
       "      <td>60971037H</td>\n",
       "      <td>吳沛龍</td>\n",
       "      <td>學生</td>\n",
       "    </tr>\n",
       "    <tr>\n",
       "      <th>3</th>\n",
       "      <td>61071009h</td>\n",
       "      <td>吳詩怡</td>\n",
       "      <td>學生</td>\n",
       "    </tr>\n",
       "    <tr>\n",
       "      <th>4</th>\n",
       "      <td>40971122H</td>\n",
       "      <td>廖于任</td>\n",
       "      <td>學生</td>\n",
       "    </tr>\n",
       "  </tbody>\n",
       "</table>\n",
       "</div>"
      ],
      "text/plain": [
       "          學號   姓名  角色\n",
       "0  41071120H  丁煦芊  學生\n",
       "1  41071122H  吳亞蓉  學生\n",
       "2  60971037H  吳沛龍  學生\n",
       "3  61071009h  吳詩怡  學生\n",
       "4  40971122H  廖于任  學生"
      ]
     },
     "execution_count": 7,
     "metadata": {},
     "output_type": "execute_result"
    }
   ],
   "source": [
    "import pandas as pd\n",
    "\n",
    "# read csv file\n",
    "plstudent = pd.read_csv(\"程式語言選課.csv\")\n",
    "multimediastudent = pd.read_csv(\"多媒體選課.csv\")\n",
    "plstudent.head()"
   ]
  },
  {
   "cell_type": "code",
   "execution_count": 8,
   "id": "d0f0fa98",
   "metadata": {},
   "outputs": [
    {
     "data": {
      "text/html": [
       "<div>\n",
       "<style scoped>\n",
       "    .dataframe tbody tr th:only-of-type {\n",
       "        vertical-align: middle;\n",
       "    }\n",
       "\n",
       "    .dataframe tbody tr th {\n",
       "        vertical-align: top;\n",
       "    }\n",
       "\n",
       "    .dataframe thead th {\n",
       "        text-align: right;\n",
       "    }\n",
       "</style>\n",
       "<table border=\"1\" class=\"dataframe\">\n",
       "  <thead>\n",
       "    <tr style=\"text-align: right;\">\n",
       "      <th></th>\n",
       "      <th>學號</th>\n",
       "      <th>姓名</th>\n",
       "      <th>角色</th>\n",
       "    </tr>\n",
       "  </thead>\n",
       "  <tbody>\n",
       "    <tr>\n",
       "      <th>0</th>\n",
       "      <td>41071120H</td>\n",
       "      <td>丁煦芊</td>\n",
       "      <td>學生</td>\n",
       "    </tr>\n",
       "    <tr>\n",
       "      <th>1</th>\n",
       "      <td>41071122H</td>\n",
       "      <td>吳亞蓉</td>\n",
       "      <td>學生</td>\n",
       "    </tr>\n",
       "    <tr>\n",
       "      <th>2</th>\n",
       "      <td>60971037H</td>\n",
       "      <td>吳沛龍</td>\n",
       "      <td>學生</td>\n",
       "    </tr>\n",
       "    <tr>\n",
       "      <th>3</th>\n",
       "      <td>61071009h</td>\n",
       "      <td>吳詩怡</td>\n",
       "      <td>學生</td>\n",
       "    </tr>\n",
       "    <tr>\n",
       "      <th>4</th>\n",
       "      <td>40971122H</td>\n",
       "      <td>廖于任</td>\n",
       "      <td>學生</td>\n",
       "    </tr>\n",
       "  </tbody>\n",
       "</table>\n",
       "</div>"
      ],
      "text/plain": [
       "          學號   姓名  角色\n",
       "0  41071120H  丁煦芊  學生\n",
       "1  41071122H  吳亞蓉  學生\n",
       "2  60971037H  吳沛龍  學生\n",
       "3  61071009h  吳詩怡  學生\n",
       "4  40971122H  廖于任  學生"
      ]
     },
     "execution_count": 8,
     "metadata": {},
     "output_type": "execute_result"
    }
   ],
   "source": [
    "plstu_id= plstudent.drop_duplicates(subset=['學號'])\n",
    "mulstu_id= multimediastudent.drop_duplicates(subset=['學號'])\n",
    "plstu_id.head()"
   ]
  },
  {
   "cell_type": "code",
   "execution_count": 9,
   "id": "e8cfdb6d",
   "metadata": {},
   "outputs": [
    {
     "data": {
      "text/plain": [
       "{'40871117H',\n",
       " '40871232H',\n",
       " '40923117L',\n",
       " '40923213L',\n",
       " '40971116H',\n",
       " '40971117H',\n",
       " '40971122H',\n",
       " '40971125H',\n",
       " '40971130H',\n",
       " '40971203H',\n",
       " '40971225H',\n",
       " '40971229H',\n",
       " '41071101H',\n",
       " '41071102H',\n",
       " '41071103H',\n",
       " '41071104H',\n",
       " '41071105H',\n",
       " '41071106H',\n",
       " '41071107H',\n",
       " '41071108H',\n",
       " '41071109H',\n",
       " '41071110H',\n",
       " '41071111H',\n",
       " '41071112H',\n",
       " '41071115H',\n",
       " '41071116H',\n",
       " '41071117H',\n",
       " '41071118H',\n",
       " '41071119H',\n",
       " '41071120H',\n",
       " '41071122H',\n",
       " '41071124H',\n",
       " '41071127H',\n",
       " '41071129H',\n",
       " '41071132H',\n",
       " '41071133H',\n",
       " '41071134H',\n",
       " '41071205H',\n",
       " '41071211H',\n",
       " '41071213H',\n",
       " '41071227H',\n",
       " '41071229H',\n",
       " '41171212H',\n",
       " '60971037H',\n",
       " '61071009H',\n",
       " '91199015Y',\n",
       " 'PECU'}"
      ]
     },
     "execution_count": 9,
     "metadata": {},
     "output_type": "execute_result"
    }
   ],
   "source": [
    "PL = set(plstu_id['學號'].str.upper()) #強制將所有學號的英文字母都變成大寫\n",
    "MUL = set(mulstu_id['學號'].str.upper())\n",
    "PL"
   ]
  },
  {
   "cell_type": "code",
   "execution_count": 11,
   "id": "eee84a65",
   "metadata": {},
   "outputs": [
    {
     "name": "stdout",
     "output_type": "stream",
     "text": [
      "{'40971130H', '40971117H', '40971229H', '40971203H', '41071205H', '40971122H', '40971225H', '40971116H'}\n"
     ]
    }
   ],
   "source": [
    "print(PL&MUL)#交集 s1.intersection(s2)"
   ]
  },
  {
   "cell_type": "code",
   "execution_count": 12,
   "id": "0cd46bc8",
   "metadata": {},
   "outputs": [
    {
     "name": "stdout",
     "output_type": "stream",
     "text": [
      "{'60971037H', '40971117H', '41071122H', '41071120H', '40871232H', '40971227H', '41071111H', '40971111H', '40971122H', '40971213H', '40971222H', '40871117H', '40971128H', '41071213H', '41071104H', '41071117H', '91199015Y', '41071229H', '40971214H', '61071009H', '41071124H', '40971209H', '41071133H', '40971208H', '40971229H', '40971204H', '40923117L', '60508014E', '41071115H', '40923213L', '41071103H', '40971216H', 'YTING', '40971202H', '40971203H', '41071110H', '41071205H', '41071112H', '41071102H', '41071118H', '40971113H', '40971115H', '41071107H', '41071106H', '40971114H', '40971121H', '40871123H', '40871225H', '41071101H', '40971130H', '40971207H', '40771213H', '41071108H', '41071109H', '41071119H', '41071116H', '40971105H', '40971108H', '41071127H', '40971231H', '40743117S', '41071132H', '41071129H', '41071105H', '40971125H', 'PECU', '40971103H', '41071134H', '41071211H', '40800116E', '40971118H', '40971119H', '41171212H', '61108025E', '41071227H', '40947062S', '40971104H', '40971124H', '40847058S', '40971225H', '40971116H', '40971226H'}\n"
     ]
    }
   ],
   "source": [
    "print(PL|MUL)#聯集 s1.union(s2)"
   ]
  },
  {
   "cell_type": "code",
   "execution_count": 13,
   "id": "5c7292ac",
   "metadata": {},
   "outputs": [
    {
     "name": "stdout",
     "output_type": "stream",
     "text": [
      "{'41071102H', '41071118H', '60971037H', '41071122H', '41071120H', '40871232H', '41071107H', '41071106H', '41071111H', '41071101H', '40871117H', '41071213H', '41071108H', '41071104H', '41071109H', '41071117H', '41071119H', '91199015Y', '41071116H', '41071127H', '41071229H', '61071009H', '41071124H', '41071132H', '41071133H', '41071129H', '41071105H', '40971125H', '40923117L', 'PECU', '41071134H', '41071211H', '41071115H', '41171212H', '40923213L', '41071103H', '41071227H', '41071110H', '41071112H'}\n"
     ]
    }
   ],
   "source": [
    "print(PL-MUL)#差集 s1.difference(s2)"
   ]
  },
  {
   "cell_type": "code",
   "execution_count": 14,
   "id": "8f25add4",
   "metadata": {},
   "outputs": [
    {
     "name": "stdout",
     "output_type": "stream",
     "text": [
      "{'41071102H', '41071118H', '60971037H', '41071122H', '41071120H', '40871232H', '41071107H', '41071106H', '41071111H', '41071101H', '40871117H', '41071213H', '41071108H', '41071104H', '41071109H', '41071117H', '41071119H', '91199015Y', '41071116H', '41071127H', '41071229H', '61071009H', '41071124H', '41071132H', '41071133H', '41071129H', '41071105H', '40971125H', '40923117L', 'PECU', '41071134H', '41071211H', '41071115H', '41171212H', '40923213L', '41071103H', '41071227H', '41071110H', '41071112H'}\n"
     ]
    }
   ],
   "source": [
    "print(PL-MUL)#差集 s2.difference(s1)"
   ]
  },
  {
   "cell_type": "code",
   "execution_count": 15,
   "id": "0d75f346",
   "metadata": {},
   "outputs": [
    {
     "name": "stdout",
     "output_type": "stream",
     "text": [
      "{'60971037H', '41071120H', '40871232H', '40971111H', '40971222H', '40971128H', '41071213H', '91199015Y', '41071229H', '40971214H', '41071124H', '40971204H', '41071115H', '40923213L', '41071103H', '40971216H', 'YTING', '40971202H', '41071112H', '41071102H', '41071107H', '40771213H', '41071109H', '40971108H', '41071127H', '40971231H', '40743117S', '40971125H', '41071211H', '40971118H', '40971119H', '41171212H', '61108025E', '40947062S', '40847058S', '40971104H', '41071122H', '40971227H', '41071111H', '40971213H', '40871117H', '41071104H', '41071117H', '61071009H', '40971209H', '40971208H', '41071133H', '40923117L', '60508014E', '41071110H', '40971113H', '41071118H', '40971115H', '40971114H', '41071106H', '40971121H', '40871123H', '40871225H', '41071101H', '40971207H', '41071108H', '40971105H', '41071119H', '41071116H', '41071132H', '41071129H', '41071105H', '40971103H', 'PECU', '41071134H', '40800116E', '41071227H', '40971124H', '40971226H'}\n"
     ]
    }
   ],
   "source": [
    "print(PL^MUL)#對稱差集(聯集-交集) s1.symmetric_difference(s2)"
   ]
  },
  {
   "cell_type": "code",
   "execution_count": null,
   "id": "5ac74584",
   "metadata": {},
   "outputs": [],
   "source": []
  }
 ],
 "metadata": {
  "kernelspec": {
   "display_name": "Python 3 (ipykernel)",
   "language": "python",
   "name": "python3"
  },
  "language_info": {
   "codemirror_mode": {
    "name": "ipython",
    "version": 3
   },
   "file_extension": ".py",
   "mimetype": "text/x-python",
   "name": "python",
   "nbconvert_exporter": "python",
   "pygments_lexer": "ipython3",
   "version": "3.9.12"
  }
 },
 "nbformat": 4,
 "nbformat_minor": 5
}

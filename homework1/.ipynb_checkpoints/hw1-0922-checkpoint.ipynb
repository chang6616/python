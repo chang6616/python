{
 "cells": [
  {
   "cell_type": "code",
   "execution_count": 9,
   "id": "1b235077",
   "metadata": {},
   "outputs": [
    {
     "data": {
      "text/html": [
       "<div>\n",
       "<style scoped>\n",
       "    .dataframe tbody tr th:only-of-type {\n",
       "        vertical-align: middle;\n",
       "    }\n",
       "\n",
       "    .dataframe tbody tr th {\n",
       "        vertical-align: top;\n",
       "    }\n",
       "\n",
       "    .dataframe thead th {\n",
       "        text-align: right;\n",
       "    }\n",
       "</style>\n",
       "<table border=\"1\" class=\"dataframe\">\n",
       "  <thead>\n",
       "    <tr style=\"text-align: right;\">\n",
       "      <th></th>\n",
       "      <th>學號</th>\n",
       "      <th>姓名</th>\n",
       "      <th>角色</th>\n",
       "    </tr>\n",
       "  </thead>\n",
       "  <tbody>\n",
       "    <tr>\n",
       "      <th>0</th>\n",
       "      <td>41071120H</td>\n",
       "      <td>丁煦芊</td>\n",
       "      <td>學生</td>\n",
       "    </tr>\n",
       "    <tr>\n",
       "      <th>1</th>\n",
       "      <td>41071122H</td>\n",
       "      <td>吳亞蓉</td>\n",
       "      <td>學生</td>\n",
       "    </tr>\n",
       "    <tr>\n",
       "      <th>2</th>\n",
       "      <td>60971037H</td>\n",
       "      <td>吳沛龍</td>\n",
       "      <td>學生</td>\n",
       "    </tr>\n",
       "    <tr>\n",
       "      <th>3</th>\n",
       "      <td>61071009h</td>\n",
       "      <td>吳詩怡</td>\n",
       "      <td>學生</td>\n",
       "    </tr>\n",
       "    <tr>\n",
       "      <th>4</th>\n",
       "      <td>40971122H</td>\n",
       "      <td>廖于任</td>\n",
       "      <td>學生</td>\n",
       "    </tr>\n",
       "  </tbody>\n",
       "</table>\n",
       "</div>"
      ],
      "text/plain": [
       "          學號   姓名  角色\n",
       "0  41071120H  丁煦芊  學生\n",
       "1  41071122H  吳亞蓉  學生\n",
       "2  60971037H  吳沛龍  學生\n",
       "3  61071009h  吳詩怡  學生\n",
       "4  40971122H  廖于任  學生"
      ]
     },
     "execution_count": 9,
     "metadata": {},
     "output_type": "execute_result"
    }
   ],
   "source": [
    "import pandas as pd\n",
    "\n",
    "# read csv file\n",
    "plstudent = pd.read_csv(\"程式語言選課.csv\")\n",
    "multimediastudent = pd.read_csv(\"多媒體選課.csv\")\n",
    "plstudent.head()"
   ]
  },
  {
   "cell_type": "code",
   "execution_count": 11,
   "id": "d0f0fa98",
   "metadata": {},
   "outputs": [
    {
     "data": {
      "text/html": [
       "<div>\n",
       "<style scoped>\n",
       "    .dataframe tbody tr th:only-of-type {\n",
       "        vertical-align: middle;\n",
       "    }\n",
       "\n",
       "    .dataframe tbody tr th {\n",
       "        vertical-align: top;\n",
       "    }\n",
       "\n",
       "    .dataframe thead th {\n",
       "        text-align: right;\n",
       "    }\n",
       "</style>\n",
       "<table border=\"1\" class=\"dataframe\">\n",
       "  <thead>\n",
       "    <tr style=\"text-align: right;\">\n",
       "      <th></th>\n",
       "      <th>學號</th>\n",
       "      <th>姓名</th>\n",
       "      <th>角色</th>\n",
       "    </tr>\n",
       "  </thead>\n",
       "  <tbody>\n",
       "    <tr>\n",
       "      <th>0</th>\n",
       "      <td>41071120H</td>\n",
       "      <td>丁煦芊</td>\n",
       "      <td>學生</td>\n",
       "    </tr>\n",
       "    <tr>\n",
       "      <th>1</th>\n",
       "      <td>41071122H</td>\n",
       "      <td>吳亞蓉</td>\n",
       "      <td>學生</td>\n",
       "    </tr>\n",
       "    <tr>\n",
       "      <th>2</th>\n",
       "      <td>60971037H</td>\n",
       "      <td>吳沛龍</td>\n",
       "      <td>學生</td>\n",
       "    </tr>\n",
       "    <tr>\n",
       "      <th>3</th>\n",
       "      <td>61071009h</td>\n",
       "      <td>吳詩怡</td>\n",
       "      <td>學生</td>\n",
       "    </tr>\n",
       "    <tr>\n",
       "      <th>4</th>\n",
       "      <td>40971122H</td>\n",
       "      <td>廖于任</td>\n",
       "      <td>學生</td>\n",
       "    </tr>\n",
       "  </tbody>\n",
       "</table>\n",
       "</div>"
      ],
      "text/plain": [
       "          學號   姓名  角色\n",
       "0  41071120H  丁煦芊  學生\n",
       "1  41071122H  吳亞蓉  學生\n",
       "2  60971037H  吳沛龍  學生\n",
       "3  61071009h  吳詩怡  學生\n",
       "4  40971122H  廖于任  學生"
      ]
     },
     "execution_count": 11,
     "metadata": {},
     "output_type": "execute_result"
    }
   ],
   "source": [
    "plstu_id= plstudent.drop_duplicates(subset=['學號'])\n",
    "mulstu_id= multimediastudent.drop_duplicates(subset=['學號'])\n",
    "plstu_id.head()"
   ]
  },
  {
   "cell_type": "code",
   "execution_count": 13,
   "id": "e8cfdb6d",
   "metadata": {},
   "outputs": [
    {
     "data": {
      "text/plain": [
       "['41071120H',\n",
       " '41071122H',\n",
       " '60971037H',\n",
       " '61071009H',\n",
       " '40971122H',\n",
       " '41171212H',\n",
       " '41071119H',\n",
       " '40971116H',\n",
       " '41071106H',\n",
       " '40971225H',\n",
       " '41071103H',\n",
       " '41071102H',\n",
       " '40971229H',\n",
       " '41071111H',\n",
       " '41071132H',\n",
       " '41071133H',\n",
       " '40971203H',\n",
       " '41071112H',\n",
       " '40871117H',\n",
       " '41071227H',\n",
       " '41071129H',\n",
       " '41071104H',\n",
       " '41071117H',\n",
       " '41071109H',\n",
       " '41071105H',\n",
       " '40971125H',\n",
       " '40923117L',\n",
       " '41071205H',\n",
       " '41071101H',\n",
       " '40923213L',\n",
       " '41071213H',\n",
       " '41071118H',\n",
       " '41071107H',\n",
       " '41071124H',\n",
       " '91199015Y',\n",
       " 'PECU',\n",
       " '40971130H',\n",
       " '41071211H',\n",
       " '40971117H',\n",
       " '41071108H',\n",
       " '41071110H',\n",
       " '41071127H',\n",
       " '41071116H',\n",
       " '41071229H',\n",
       " '40871232H',\n",
       " '41071134H',\n",
       " '41071115H']"
      ]
     },
     "execution_count": 13,
     "metadata": {},
     "output_type": "execute_result"
    }
   ],
   "source": [
    "PL = list(plstu_id['學號'].str.upper()) #強制將所有學號的英文字母都變成大寫\n",
    "MUL = list(mulstu_id['學號'].str.upper())\n",
    "PL"
   ]
  },
  {
   "cell_type": "code",
   "execution_count": null,
   "id": "eee84a65",
   "metadata": {},
   "outputs": [],
   "source": [
    "print(PL&MUL)#交集 s1.intersection(s2)\n",
    "print(PL|MUL)#聯集 s1.union(s2)\n",
    "print(PL-MUL)#差集 s1.difference(s2)\n",
    "print(PL-MUL)#差集 s2.difference(s1)\n",
    "print(PL^MUL)#對稱差集(聯集-交集) s1.symmetric_difference(s2)"
   ]
  }
 ],
 "metadata": {
  "kernelspec": {
   "display_name": "Python 3 (ipykernel)",
   "language": "python",
   "name": "python3"
  },
  "language_info": {
   "codemirror_mode": {
    "name": "ipython",
    "version": 3
   },
   "file_extension": ".py",
   "mimetype": "text/x-python",
   "name": "python",
   "nbconvert_exporter": "python",
   "pygments_lexer": "ipython3",
   "version": "3.9.12"
  }
 },
 "nbformat": 4,
 "nbformat_minor": 5
}

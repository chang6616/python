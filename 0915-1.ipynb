{
 "cells": [
  {
   "cell_type": "code",
   "execution_count": 1,
   "id": "6290ccf2",
   "metadata": {},
   "outputs": [
    {
     "name": "stdout",
     "output_type": "stream",
     "text": [
      "原告支付金額: 7706 元\n",
      "原告支付金額: 17981 元\n"
     ]
    }
   ],
   "source": [
    "accucermoney=25688*3/10\n",
    "print(\"原告支付金額:\",int(accucermoney),\"元\")\n",
    "defendantmoney=25688*7/10\n",
    "print(\"原告支付金額:\",int(defendantmoney),\"元\")"
   ]
  },
  {
   "cell_type": "code",
   "execution_count": 2,
   "id": "1b4bf17f",
   "metadata": {},
   "outputs": [
    {
     "name": "stdout",
     "output_type": "stream",
     "text": [
      "利息加違約金共: 12453 元\n"
     ]
    }
   ],
   "source": [
    "money=11805\n",
    "interest=(31+28)*0.0005\n",
    "fine=money+money*interest+300\n",
    "print(\"利息加違約金共:\",int(fine),\"元\")"
   ]
  },
  {
   "cell_type": "code",
   "execution_count": null,
   "id": "9275fd82",
   "metadata": {},
   "outputs": [],
   "source": [
    "case1=\"被告闖紅燈\"\n",
    "case2=\"原告闖紅燈\"\n",
    "case3=\"被告原告皆闖紅燈\"\n",
    "case4=\"end\"\n",
    "\n",
    "while True:\n",
    "    event=input(\"請輸入案件:\")\n",
    "\n",
    "    if event==case1:\n",
    "        print(\"被告賠100%\") \n",
    "    elif event==case2:\n",
    "        print(\"原告多被告少\")\n",
    "    elif event==case3:\n",
    "        print(\"原告50%被告50%\")\n",
    "    elif event==case4:\n",
    "        break\n",
    "    else:\n",
    "        print(\"請輸入有效訊息\")"
   ]
  },
  {
   "cell_type": "code",
   "execution_count": null,
   "id": "a83671e9",
   "metadata": {},
   "outputs": [],
   "source": []
  }
 ],
 "metadata": {
  "kernelspec": {
   "display_name": "Python 3 (ipykernel)",
   "language": "python",
   "name": "python3"
  },
  "language_info": {
   "codemirror_mode": {
    "name": "ipython",
    "version": 3
   },
   "file_extension": ".py",
   "mimetype": "text/x-python",
   "name": "python",
   "nbconvert_exporter": "python",
   "pygments_lexer": "ipython3",
   "version": "3.9.12"
  }
 },
 "nbformat": 4,
 "nbformat_minor": 5
}

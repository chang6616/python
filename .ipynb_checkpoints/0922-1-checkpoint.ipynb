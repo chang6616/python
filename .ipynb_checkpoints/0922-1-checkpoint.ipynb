{
 "cells": [
  {
   "cell_type": "code",
   "execution_count": 2,
   "id": "1edd9a2a",
   "metadata": {},
   "outputs": [
    {
     "name": "stdout",
     "output_type": "stream",
     "text": [
      "['美製貝瑞塔手槍1支', '美製史密斯手槍1支', '制式口徑9mm子彈26顆', '土造金屬子彈1顆', '仿美國COLT廠M1911A1型半自動手槍1支', '口徑0.45吋制式子彈1顆']\n"
     ]
    }
   ],
   "source": [
    "weapon=\"美製貝瑞塔手槍1支、美製史密斯手槍1支、制式口徑9mm子彈26顆、土造金屬子彈1顆、仿美國COLT廠M1911A1型半自動手槍1支、口徑0.45吋制式子彈1顆\"\n",
    "split_w = weapon.split(\"、\")\n",
    "print(split_w)"
   ]
  },
  {
   "cell_type": "code",
   "execution_count": 1,
   "id": "67a93121",
   "metadata": {},
   "outputs": [
    {
     "ename": "NameError",
     "evalue": "name 'split_w' is not defined",
     "output_type": "error",
     "traceback": [
      "\u001b[1;31m---------------------------------------------------------------------------\u001b[0m",
      "\u001b[1;31mNameError\u001b[0m                                 Traceback (most recent call last)",
      "Input \u001b[1;32mIn [1]\u001b[0m, in \u001b[0;36m<cell line: 1>\u001b[1;34m()\u001b[0m\n\u001b[1;32m----> 1\u001b[0m \u001b[38;5;28;01mdel\u001b[39;00m \u001b[43msplit_w\u001b[49m[\u001b[38;5;241m2\u001b[39m:\u001b[38;5;241m4\u001b[39m]\n\u001b[0;32m      2\u001b[0m \u001b[38;5;28mprint\u001b[39m(split_w)\n",
      "\u001b[1;31mNameError\u001b[0m: name 'split_w' is not defined"
     ]
    }
   ],
   "source": [
    "del split_w[2:4]\n",
    "print(split_w)"
   ]
  },
  {
   "cell_type": "code",
   "execution_count": null,
   "id": "a1ba8a56",
   "metadata": {},
   "outputs": [],
   "source": []
  }
 ],
 "metadata": {
  "kernelspec": {
   "display_name": "Python 3 (ipykernel)",
   "language": "python",
   "name": "python3"
  },
  "language_info": {
   "codemirror_mode": {
    "name": "ipython",
    "version": 3
   },
   "file_extension": ".py",
   "mimetype": "text/x-python",
   "name": "python",
   "nbconvert_exporter": "python",
   "pygments_lexer": "ipython3",
   "version": "3.9.12"
  }
 },
 "nbformat": 4,
 "nbformat_minor": 5
}

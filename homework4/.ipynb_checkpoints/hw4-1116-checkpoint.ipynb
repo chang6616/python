{
 "cells": [
  {
   "cell_type": "code",
   "execution_count": 24,
   "id": "5ac4a0ea",
   "metadata": {
    "scrolled": true
   },
   "outputs": [],
   "source": [
    "import jieba\n",
    "import jieba.analyse\n",
    "import pandas as pd\n",
    "import numpy as np\n",
    "from collections import Counter"
   ]
  },
  {
   "cell_type": "code",
   "execution_count": 9,
   "id": "40c9248d",
   "metadata": {},
   "outputs": [
    {
     "data": {
      "text/html": [
       "<div>\n",
       "<style scoped>\n",
       "    .dataframe tbody tr th:only-of-type {\n",
       "        vertical-align: middle;\n",
       "    }\n",
       "\n",
       "    .dataframe tbody tr th {\n",
       "        vertical-align: top;\n",
       "    }\n",
       "\n",
       "    .dataframe thead th {\n",
       "        text-align: right;\n",
       "    }\n",
       "</style>\n",
       "<table border=\"1\" class=\"dataframe\">\n",
       "  <thead>\n",
       "    <tr style=\"text-align: right;\">\n",
       "      <th></th>\n",
       "      <th>館名</th>\n",
       "      <th>地址</th>\n",
       "      <th>連絡電話</th>\n",
       "      <th>服務時間</th>\n",
       "      <th>服務對象</th>\n",
       "      <th>服務內容</th>\n",
       "    </tr>\n",
       "  </thead>\n",
       "  <tbody>\n",
       "    <tr>\n",
       "      <th>0</th>\n",
       "      <td>桃園市桃園親子館</td>\n",
       "      <td>桃園市桃園區三民路一段200號</td>\n",
       "      <td>03 3398607</td>\n",
       "      <td>週二至週日（早上8:30~17:30）(每週一及國定假日休館)</td>\n",
       "      <td>6歲以下(國小一年級前，不含一年級)之學齡前兒童及其照顧者。</td>\n",
       "      <td>1.育兒資源服務：親子互動遊戲區、親子活動、親職講座、教玩具及圖書外借服務、家長支持團體、外...</td>\n",
       "    </tr>\n",
       "    <tr>\n",
       "      <th>1</th>\n",
       "      <td>桃園市大園親子館（含行動親子車）</td>\n",
       "      <td>桃園市大園區和平東路89號3樓</td>\n",
       "      <td>03 3863316分機41-46</td>\n",
       "      <td>週二至週日（早上8:30~17:30）(每週一及國定假日休館)</td>\n",
       "      <td>6歲以下(國小一年級前，不含一年級)之學齡前兒童及其照顧者。</td>\n",
       "      <td>1.育兒資源服務：親子互動遊戲區、親子活動、親職講座、教玩具及圖書外借服務、家長支持團體、外...</td>\n",
       "    </tr>\n",
       "    <tr>\n",
       "      <th>2</th>\n",
       "      <td>桃園市平鎮親子館（含行動親子車）</td>\n",
       "      <td>桃園市平鎮區廣成街10號4樓</td>\n",
       "      <td>03 4921366</td>\n",
       "      <td>週二至週日（早上8:30~17:30）(每週一及國定假日休館)</td>\n",
       "      <td>6歲以下(國小一年級前，不含一年級)之學齡前兒童及其照顧者。</td>\n",
       "      <td>1.育兒資源服務：親子互動遊戲區、親子活動、親職講座、教玩具及圖書外借服務、家長支持團體、外...</td>\n",
       "    </tr>\n",
       "    <tr>\n",
       "      <th>3</th>\n",
       "      <td>桃園市中壢親子館</td>\n",
       "      <td>桃園市中壢區元化路159號4樓 (中壢社福館4樓)</td>\n",
       "      <td>03  4251620</td>\n",
       "      <td>週二至週日（早上8:30~17:30）(每週一及國定假日休館)</td>\n",
       "      <td>6歲以下(國小一年級前，不含一年級)之學齡前兒童及其照顧者。</td>\n",
       "      <td>1.育兒資源服務：親子互動遊戲區、親子活動、親職講座、教玩具及圖書外借服務、家長支持團體、外...</td>\n",
       "    </tr>\n",
       "    <tr>\n",
       "      <th>4</th>\n",
       "      <td>桃園市八德親子館</td>\n",
       "      <td>桃園市八德區福國北街220號2樓</td>\n",
       "      <td>03  3766220</td>\n",
       "      <td>週二至週日（早上8:30~17:30）(每週一及國定假日休館)</td>\n",
       "      <td>6歲以下(國小一年級前，不含一年級)之學齡前兒童及其照顧者。</td>\n",
       "      <td>1.育兒資源服務：親子互動遊戲區、親子活動、親職講座、教玩具及圖書外借服務、家長支持團體、外...</td>\n",
       "    </tr>\n",
       "  </tbody>\n",
       "</table>\n",
       "</div>"
      ],
      "text/plain": [
       "                 館名                         地址               連絡電話  \\\n",
       "0          桃園市桃園親子館            桃園市桃園區三民路一段200號         03 3398607   \n",
       "1  桃園市大園親子館（含行動親子車）            桃園市大園區和平東路89號3樓  03 3863316分機41-46   \n",
       "2  桃園市平鎮親子館（含行動親子車）             桃園市平鎮區廣成街10號4樓         03 4921366   \n",
       "3          桃園市中壢親子館  桃園市中壢區元化路159號4樓 (中壢社福館4樓)        03  4251620   \n",
       "4          桃園市八德親子館           桃園市八德區福國北街220號2樓        03  3766220   \n",
       "\n",
       "                              服務時間                            服務對象  \\\n",
       "0  週二至週日（早上8:30~17:30）(每週一及國定假日休館)  6歲以下(國小一年級前，不含一年級)之學齡前兒童及其照顧者。   \n",
       "1  週二至週日（早上8:30~17:30）(每週一及國定假日休館)  6歲以下(國小一年級前，不含一年級)之學齡前兒童及其照顧者。   \n",
       "2  週二至週日（早上8:30~17:30）(每週一及國定假日休館)  6歲以下(國小一年級前，不含一年級)之學齡前兒童及其照顧者。   \n",
       "3  週二至週日（早上8:30~17:30）(每週一及國定假日休館)  6歲以下(國小一年級前，不含一年級)之學齡前兒童及其照顧者。   \n",
       "4  週二至週日（早上8:30~17:30）(每週一及國定假日休館)  6歲以下(國小一年級前，不含一年級)之學齡前兒童及其照顧者。   \n",
       "\n",
       "                                                服務內容  \n",
       "0  1.育兒資源服務：親子互動遊戲區、親子活動、親職講座、教玩具及圖書外借服務、家長支持團體、外...  \n",
       "1  1.育兒資源服務：親子互動遊戲區、親子活動、親職講座、教玩具及圖書外借服務、家長支持團體、外...  \n",
       "2  1.育兒資源服務：親子互動遊戲區、親子活動、親職講座、教玩具及圖書外借服務、家長支持團體、外...  \n",
       "3  1.育兒資源服務：親子互動遊戲區、親子活動、親職講座、教玩具及圖書外借服務、家長支持團體、外...  \n",
       "4  1.育兒資源服務：親子互動遊戲區、親子活動、親職講座、教玩具及圖書外借服務、家長支持團體、外...  "
      ]
     },
     "execution_count": 9,
     "metadata": {},
     "output_type": "execute_result"
    }
   ],
   "source": [
    "data = pd.read_csv('桃園市親子館名冊.csv')\n",
    "data.head()"
   ]
  },
  {
   "cell_type": "code",
   "execution_count": 12,
   "id": "99a7effd",
   "metadata": {},
   "outputs": [
    {
     "name": "stderr",
     "output_type": "stream",
     "text": [
      "Building prefix dict from the default dictionary ...\n",
      "Dumping model to file cache C:\\Users\\asus\\AppData\\Local\\Temp\\jieba.cache\n",
      "Loading model cost 0.582 seconds.\n",
      "Prefix dict has been built successfully.\n"
     ]
    }
   ],
   "source": [
    "data['seg'] = \"\"\n",
    "\n",
    "jieba.analyse.set_stop_words('stopwords.txt')\n",
    "index = 0\n",
    "for documents in data['服務內容']:\n",
    "    seg_list = jieba.analyse.extract_tags(documents, 150)\n",
    "    #seg_list = jieba.lcut(documents)\n",
    "    data['seg'].iloc[index] = seg_list\n",
    "    index += 1"
   ]
  },
  {
   "cell_type": "code",
   "execution_count": 13,
   "id": "78f15996",
   "metadata": {},
   "outputs": [
    {
     "data": {
      "text/plain": [
       "0     [服務, 資源, 社會, 育兒, 親子, 協助, 連結, 福利, 外借, 互動遊, 戲區, ...\n",
       "1     [服務, 資源, 社會, 育兒, 親子, 協助, 連結, 福利, 外借, 互動遊, 戲區, ...\n",
       "2     [服務, 資源, 社會, 育兒, 親子, 協助, 連結, 福利, 外借, 互動遊, 戲區, ...\n",
       "3     [服務, 資源, 社會, 育兒, 親子, 協助, 連結, 福利, 外借, 互動遊, 戲區, ...\n",
       "4     [服務, 資源, 社會, 育兒, 親子, 協助, 連結, 福利, 外借, 互動遊, 戲區, ...\n",
       "5     [服務, 資源, 社會, 育兒, 親子, 協助, 連結, 福利, 外借, 互動遊, 戲區, ...\n",
       "6     [服務, 資源, 社會, 育兒, 親子, 協助, 連結, 福利, 外借, 互動遊, 戲區, ...\n",
       "7     [服務, 資源, 社會, 育兒, 親子, 協助, 連結, 福利, 外借, 互動遊, 戲區, ...\n",
       "8     [服務, 資源, 社會, 育兒, 親子, 協助, 連結, 福利, 外借, 互動遊, 戲區, ...\n",
       "9     [服務, 資源, 社會, 育兒, 親子, 協助, 連結, 福利, 外借, 互動遊, 戲區, ...\n",
       "10    [服務, 資源, 社會, 育兒, 親子, 協助, 連結, 福利, 外借, 互動遊, 戲區, ...\n",
       "11    [服務, 資源, 社會, 育兒, 親子, 協助, 連結, 福利, 外借, 互動遊, 戲區, ...\n",
       "12    [服務, 資源, 社會, 育兒, 親子, 協助, 連結, 福利, 外借, 互動遊, 戲區, ...\n",
       "13    [服務, 資源, 社會, 育兒, 親子, 協助, 連結, 福利, 外借, 互動遊, 戲區, ...\n",
       "14    [服務, 資源, 社會, 育兒, 親子, 協助, 連結, 福利, 外借, 互動遊, 戲區, ...\n",
       "15    [服務, 資源, 社會, 育兒, 親子, 協助, 連結, 福利, 外借, 互動遊, 戲區, ...\n",
       "16    [服務, 資源, 社會, 育兒, 親子, 協助, 連結, 福利, 外借, 互動遊, 戲區, ...\n",
       "17    [服務, 育兒, 資源, 親子, 協助, 連結, 互動, 空間, 詢服務, 活動, 社區, ...\n",
       "Name: seg, dtype: object"
      ]
     },
     "execution_count": 13,
     "metadata": {},
     "output_type": "execute_result"
    }
   ],
   "source": [
    "data['seg']"
   ]
  },
  {
   "cell_type": "code",
   "execution_count": 17,
   "id": "c6b2c8f0",
   "metadata": {},
   "outputs": [
    {
     "data": {
      "text/plain": [
       "list"
      ]
     },
     "execution_count": 17,
     "metadata": {},
     "output_type": "execute_result"
    }
   ],
   "source": [
    "data_seg_list = data['seg'].tolist()\n",
    "type(data_seg_list)"
   ]
  },
  {
   "cell_type": "code",
   "execution_count": 25,
   "id": "6ae7e30a",
   "metadata": {},
   "outputs": [
    {
     "data": {
      "image/png": "[encoded data removed]",
      "text/plain": [
       "<Figure size 1440x1440 with 1 Axes>"
      ]
     },
     "metadata": {
      "needs_background": "light"
     },
     "output_type": "display_data"
    }
   ],
   "source": [
    "flat = [x for datalist in data_seg_list for x in datalist]\n",
    "diction = Counter(flat)\n",
    "\n",
    "from PIL import Image\n",
    "import matplotlib.pyplot as plt\n",
    "from wordcloud import WordCloud\n",
    "\n",
    "mask = np.array(Image.open(\"house.jpg\"))\n",
    "font = \"C:\\Windows\\Fonts\\MSJH.TTC\"\n",
    "\n",
    "wordcloud = WordCloud(background_color = \"white\", font_path=font, mask = mask)\n",
    "wordcloud.generate_from_frequencies(diction)\n",
    "\n",
    "\n",
    "plt.figure(figsize=(20,20))\n",
    "plt.imshow(wordcloud)\n",
    "plt.axis(\"off\")\n",
    "plt.show()"
   ]
  },
  {
   "cell_type": "code",
   "execution_count": null,
   "id": "be8fc7d6",
   "metadata": {},
   "outputs": [],
   "source": []
  }
 ],
 "metadata": {
  "kernelspec": {
   "display_name": "Python 3 (ipykernel)",
   "language": "python",
   "name": "python3"
  },
  "language_info": {
   "codemirror_mode": {
    "name": "ipython",
    "version": 3
   },
   "file_extension": ".py",
   "mimetype": "text/x-python",
   "name": "python",
   "nbconvert_exporter": "python",
   "pygments_lexer": "ipython3",
   "version": "3.9.12"
  }
 },
 "nbformat": 4,
 "nbformat_minor": 5
}

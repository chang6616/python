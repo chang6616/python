{
 "cells": [
  {
   "cell_type": "code",
   "execution_count": 2,
   "id": "1edd9a2a",
   "metadata": {},
   "outputs": [
    {
     "name": "stdout",
     "output_type": "stream",
     "text": [
      "['美製貝瑞塔手槍1支', '美製史密斯手槍1支', '制式口徑9mm子彈26顆', '土造金屬子彈1顆', '仿美國COLT廠M1911A1型半自動手槍1支', '口徑0.45吋制式子彈1顆']\n"
     ]
    }
   ],
   "source": [
    "weapon=\"美製貝瑞塔手槍1支、美製史密斯手槍1支、制式口徑9mm子彈26顆、土造金屬子彈1顆、仿美國COLT廠M1911A1型半自動手槍1支、口徑0.45吋制式子彈1顆\"\n",
    "split_w = weapon.split(\"、\")\n",
    "print(split_w)\n"
   ]
  },
  {
   "cell_type": "code",
   "execution_count": null,
   "id": "67a93121",
   "metadata": {},
   "outputs": [],
   "source": []
  }
 ],
 "metadata": {
  "kernelspec": {
   "display_name": "Python 3 (ipykernel)",
   "language": "python",
   "name": "python3"
  },
  "language_info": {
   "codemirror_mode": {
    "name": "ipython",
    "version": 3
   },
   "file_extension": ".py",
   "mimetype": "text/x-python",
   "name": "python",
   "nbconvert_exporter": "python",
   "pygments_lexer": "ipython3",
   "version": "3.9.12"
  }
 },
 "nbformat": 4,
 "nbformat_minor": 5
}

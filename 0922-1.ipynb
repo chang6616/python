{
 "cells": [
  {
   "cell_type": "code",
   "execution_count": 17,
   "id": "1edd9a2a",
   "metadata": {},
   "outputs": [
    {
     "name": "stdout",
     "output_type": "stream",
     "text": [
      "['美製貝瑞塔手槍1支', '美製史密斯手槍1支', '制式口徑9mm子彈26顆', '土造金屬子彈1顆', '仿美國COLT廠M1911A1型半自動手槍1支', '口徑0.45吋制式子彈1顆']\n"
     ]
    }
   ],
   "source": [
    "weapon=\"美製貝瑞塔手槍1支、美製史密斯手槍1支、制式口徑9mm子彈26顆、土造金屬子彈1顆、仿美國COLT廠M1911A1型半自動手槍1支、口徑0.45吋制式子彈1顆\"\n",
    "split_w = weapon.split(\"、\")\n",
    "print(split_w)"
   ]
  },
  {
   "cell_type": "code",
   "execution_count": 18,
   "id": "67a93121",
   "metadata": {},
   "outputs": [
    {
     "name": "stdout",
     "output_type": "stream",
     "text": [
      "['美製史密斯手槍1支', '制式口徑9mm子彈26顆', '土造金屬子彈1顆', '仿美國COLT廠M1911A1型半自動手槍1支', '口徑0.45吋制式子彈1顆']\n",
      "['美製史密斯手槍1支', '制式口徑9mm子彈26顆', '左輪手槍', '土造金屬子彈1顆', '仿美國COLT廠M1911A1型半自動手槍1支', '口徑0.45吋制式子彈1顆']\n",
      "['美製史密斯手槍1支', '制式口徑9mm子彈26顆', '左輪手槍', '土造金屬子彈1顆', '口徑0.45吋制式子彈1顆']\n"
     ]
    }
   ],
   "source": [
    "del split_w[0]\n",
    "print(split_w)\n",
    "\n",
    "split_w.insert(2,\"左輪手槍\")\n",
    "print(split_w)\n",
    "\n",
    "split_w.remove(\"仿美國COLT廠M1911A1型半自動手槍1支\")\n",
    "print(split_w)"
   ]
  },
  {
   "cell_type": "code",
   "execution_count": 28,
   "id": "d13b2c1f",
   "metadata": {},
   "outputs": [
    {
     "name": "stdout",
     "output_type": "stream",
     "text": [
      "('最高法院民事判例', '最高法院刑事判例', '行政法院判例')\n",
      "(('最高法院民事判例', '7則'), ('最高法院刑事判例', '3則'), ('行政法院判例', '5則'))\n"
     ]
    }
   ],
   "source": [
    "case = (\"最高法院民事判例\",\"最高法院刑事判例\",\"行政法院判例\",\"大法官解釋\")\n",
    "amount = (\"7則\",\"3則\",\"5則\",\"4則\")\n",
    "casenew = case[:3]\n",
    "print(casenew)\n",
    "\n",
    "zipca = zip(casenew,amount)\n",
    "ziplist = list(zipca)#要轉成容器才能print\n",
    "print(ziplist)"
   ]
  },
  {
   "cell_type": "code",
   "execution_count": 36,
   "id": "56dea1d6",
   "metadata": {},
   "outputs": [
    {
     "name": "stdout",
     "output_type": "stream",
     "text": [
      "兩人共有: {'沒收', '褫奪公權', '無期徒刑', '有期徒刑', '罰金'}\n",
      "兩人共有: {'無期徒刑', '褫奪公權'}\n",
      "兩人都有: {'罰金'}\n",
      "a需付罰金? True\n",
      "b需付罰金? True\n"
     ]
    }
   ],
   "source": [
    "a = {\"有期徒刑\",\"沒收\",\"罰金\"}\n",
    "b = {\"無期徒刑\",\"罰金\",\"褫奪公權\"}\n",
    "\n",
    "print(\"兩人共有:\",a|b)#聯集 a.union(b)\n",
    "print(\"兩人共有:\",b-a)#差集 b有a沒有 b.difference(a)\n",
    "print(\"兩人都有:\",a&b)#交集 a.intersection(b)\n",
    "print(\"a需付罰金?\",\"罰金\" in a)\n",
    "print(\"b需付罰金?\",\"罰金\" in b)"
   ]
  },
  {
   "cell_type": "code",
   "execution_count": 40,
   "id": "3c8c54e5",
   "metadata": {},
   "outputs": [
    {
     "name": "stdout",
     "output_type": "stream",
     "text": [
      "['刑事訴訟法', '中華民國刑法']\n",
      "[['第159條之4', '第159條之5', '第159條之1', '第267條', '第299條第1項', '第302條第1款'], ['第11條', '第38條的1項第1款', '第42條第3項', '第55條', '第56條', '第57條', '第59條']]\n",
      "第267條\n",
      "['第11條', '第38條的1項第1款', '第42條第3項', '第55條', '第56條', '第57條', '第59條', '第62條']\n"
     ]
    }
   ],
   "source": [
    "dic={\"刑事訴訟法\":[\"第159條之4\",\"第159條之5\",\"第159條之1\",\"第267條\",\"第299條第1項\",\"第302條第1款\"],\"中華民國刑法\":[\"第11條\",\"第38條的1項第1款\",\"第42條第3項\",\"第55條\",\"第56條\",\"第57條\",\"第59條\",]}\n",
    "li1 = list(dic.keys())\n",
    "li2 = list(dic.values())\n",
    "print(li1)\n",
    "print(li2)\n",
    "print(dic[\"刑事訴訟法\"][3])\n",
    "\n",
    "dic[\"中華民國刑法\"].append(\"第62條\")\n",
    "print(dic[\"中華民國刑法\"])"
   ]
  },
  {
   "cell_type": "code",
   "execution_count": null,
   "id": "6617fa45",
   "metadata": {},
   "outputs": [],
   "source": []
  }
 ],
 "metadata": {
  "kernelspec": {
   "display_name": "Python 3 (ipykernel)",
   "language": "python",
   "name": "python3"
  },
  "language_info": {
   "codemirror_mode": {
    "name": "ipython",
    "version": 3
   },
   "file_extension": ".py",
   "mimetype": "text/x-python",
   "name": "python",
   "nbconvert_exporter": "python",
   "pygments_lexer": "ipython3",
   "version": "3.9.12"
  }
 },
 "nbformat": 4,
 "nbformat_minor": 5
}
